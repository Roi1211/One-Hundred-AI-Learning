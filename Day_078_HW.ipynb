{
 "cells": [
  {
   "cell_type": "markdown",
   "metadata": {},
   "source": [
    "## Work\n",
    "1. 請嘗試將 preproc_x 替換成以每筆資料的 min/max 進行標準化至 -1 ~ 1 間，再進行訓練\n",
    "2. 請嘗試將 mlp 疊更深 (e.g 5~10 層)，進行訓練後觀察 learning curve 的走勢\n",
    "3. (optional) 請改用 GPU 進行訓練 (如果你有 GPU 的話)，比較使用 CPU 與 GPU 的訓練速度"
   ]
  },
  {
   "cell_type": "code",
   "execution_count": 1,
   "metadata": {},
   "outputs": [],
   "source": [
    "## \n",
    "\"\"\"\n",
    "Your code here (optional)\n",
    "確認硬體資源\n",
    "\"\"\"\n"
   ]
  },
  {
   "cell_type": "code",
   "execution_count": 3,
   "metadata": {},
   "outputs": [
    {
     "name": "stderr",
     "output_type": "stream",
     "text": [
      "Using TensorFlow backend.\n"
     ]
    }
   ],
   "source": [
    "import os\n",
    "import keras\n",
    "\n",
    "# 請嘗試設定 GPU：os.environ\n",
    "os.environ[\"CUDA_VISIBLE_DEVICES\"] = \"\""
   ]
  },
  {
   "cell_type": "code",
   "execution_count": 13,
   "metadata": {},
   "outputs": [],
   "source": [
    "train, test = keras.datasets.cifar10.load_data()"
   ]
  },
  {
   "cell_type": "code",
   "execution_count": 22,
   "metadata": {},
   "outputs": [],
   "source": [
    "## 資料前處理\n",
    "\"\"\"\n",
    "Your code here\n",
    "\"\"\"\n",
    "import numpy as np\n",
    "def preproc_x(x, flatten=True):\n",
    "    x = (x - np.min(x))/ np.max(x) * 2 -1\n",
    "    if flatten:\n",
    "        x = x.reshape((len(x), -1))\n",
    "    return x\n",
    "\n",
    "def preproc_y(y, num_classes=10):\n",
    "    if y.shape[-1] == 1:\n",
    "        y = keras.utils.to_categorical(y, num_classes)\n",
    "    return y    "
   ]
  },
  {
   "cell_type": "code",
   "execution_count": 23,
   "metadata": {},
   "outputs": [],
   "source": [
    "x_train, y_train = train\n",
    "x_test, y_test = test\n",
    "\n",
    "# Preproc the inputs\n",
    "x_train = preproc_x(x_train)\n",
    "x_test = preproc_x(x_test)\n",
    "\n",
    "# Preprc the outputs\n",
    "y_train = preproc_y(y_train)\n",
    "y_test = preproc_y(y_test)"
   ]
  },
  {
   "cell_type": "code",
   "execution_count": 24,
   "metadata": {},
   "outputs": [],
   "source": [
    "\"\"\"Code Here\n",
    "建立你的神經網路\n",
    "\"\"\"\n",
    "def build_mlp(input_shape, output_units=10, num_neurons=[512, 256, 128]):\n",
    "    input_layer = keras.layers.Input(input_shape)\n",
    "    \n",
    "    for i, n_units in enumerate(num_neurons):\n",
    "        if i == 0:\n",
    "            x = keras.layers.Dense(units=n_units, activation=\"relu\", name=\"hidden_layer\"+str(i+1))(input_layer)\n",
    "        else:\n",
    "            x = keras.layers.Dense(units=n_units, activation=\"relu\", name=\"hidden_layer\"+str(i+1))(x)\n",
    "    \n",
    "    out = keras.layers.Dense(units=output_units, activation=\"softmax\", name=\"output\")(x)\n",
    "    \n",
    "    model = keras.models.Model(inputs=[input_layer], outputs=[out])\n",
    "    return model\n"
   ]
  },
  {
   "cell_type": "code",
   "execution_count": 26,
   "metadata": {
    "scrolled": true
   },
   "outputs": [
    {
     "name": "stdout",
     "output_type": "stream",
     "text": [
      "Model: \"model_1\"\n",
      "_________________________________________________________________\n",
      "Layer (type)                 Output Shape              Param #   \n",
      "=================================================================\n",
      "input_1 (InputLayer)         (None, 3072)              0         \n",
      "_________________________________________________________________\n",
      "hidden_layer1 (Dense)        (None, 512)               1573376   \n",
      "_________________________________________________________________\n",
      "hidden_layer2 (Dense)        (None, 256)               131328    \n",
      "_________________________________________________________________\n",
      "hidden_layer3 (Dense)        (None, 256)               65792     \n",
      "_________________________________________________________________\n",
      "hidden_layer4 (Dense)        (None, 128)               32896     \n",
      "_________________________________________________________________\n",
      "hidden_layer5 (Dense)        (None, 128)               16512     \n",
      "_________________________________________________________________\n",
      "hidden_layer6 (Dense)        (None, 64)                8256      \n",
      "_________________________________________________________________\n",
      "output (Dense)               (None, 10)                650       \n",
      "=================================================================\n",
      "Total params: 1,828,810\n",
      "Trainable params: 1,828,810\n",
      "Non-trainable params: 0\n",
      "_________________________________________________________________\n"
     ]
    }
   ],
   "source": [
    "model = build_mlp(input_shape=x_train.shape[1:], num_neurons=[512, 256, 256, 128, 128, 64])\n",
    "model.summary()"
   ]
  },
  {
   "cell_type": "code",
   "execution_count": 27,
   "metadata": {},
   "outputs": [],
   "source": [
    "## 超參數設定\n",
    "LEARNING_RATE = 0.001\n",
    "EPOCHS = 100\n",
    "BATCH_SIZE = 256"
   ]
  },
  {
   "cell_type": "code",
   "execution_count": 28,
   "metadata": {},
   "outputs": [],
   "source": [
    "optimizer = keras.optimizers.Adam(lr=LEARNING_RATE)\n",
    "model.compile(loss=\"categorical_crossentropy\", metrics=[\"accuracy\"], optimizer=optimizer)"
   ]
  },
  {
   "cell_type": "code",
   "execution_count": 29,
   "metadata": {},
   "outputs": [
    {
     "name": "stdout",
     "output_type": "stream",
     "text": [
      "Train on 50000 samples, validate on 10000 samples\n",
      "Epoch 1/100\n",
      "50000/50000 [==============================] - 8s 165us/step - loss: 1.7085 - accuracy: 0.3917 - val_loss: 1.5214 - val_accuracy: 0.4634\n",
      "Epoch 2/100\n",
      "50000/50000 [==============================] - 8s 159us/step - loss: 1.4706 - accuracy: 0.4828 - val_loss: 1.4497 - val_accuracy: 0.4890\n",
      "Epoch 3/100\n",
      "50000/50000 [==============================] - 8s 163us/step - loss: 1.3537 - accuracy: 0.5231 - val_loss: 1.4314 - val_accuracy: 0.4965\n",
      "Epoch 4/100\n",
      "50000/50000 [==============================] - 8s 164us/step - loss: 1.2570 - accuracy: 0.5564 - val_loss: 1.3640 - val_accuracy: 0.5236\n",
      "Epoch 5/100\n",
      "50000/50000 [==============================] - 8s 162us/step - loss: 1.1725 - accuracy: 0.5868 - val_loss: 1.3491 - val_accuracy: 0.5363\n",
      "Epoch 6/100\n",
      "50000/50000 [==============================] - 8s 169us/step - loss: 1.0896 - accuracy: 0.6131 - val_loss: 1.3691 - val_accuracy: 0.5306\n",
      "Epoch 7/100\n",
      "50000/50000 [==============================] - 8s 167us/step - loss: 1.0141 - accuracy: 0.6418 - val_loss: 1.3735 - val_accuracy: 0.5320\n",
      "Epoch 8/100\n",
      "50000/50000 [==============================] - 8s 165us/step - loss: 0.9463 - accuracy: 0.6652 - val_loss: 1.4068 - val_accuracy: 0.5343\n",
      "Epoch 9/100\n",
      "50000/50000 [==============================] - 8s 166us/step - loss: 0.8697 - accuracy: 0.6929 - val_loss: 1.4211 - val_accuracy: 0.5391\n",
      "Epoch 10/100\n",
      "50000/50000 [==============================] - 8s 166us/step - loss: 0.8083 - accuracy: 0.7137 - val_loss: 1.4868 - val_accuracy: 0.5267\n",
      "Epoch 11/100\n",
      "50000/50000 [==============================] - 8s 164us/step - loss: 0.7411 - accuracy: 0.7365 - val_loss: 1.5362 - val_accuracy: 0.5298\n",
      "Epoch 12/100\n",
      "50000/50000 [==============================] - 8s 164us/step - loss: 0.6818 - accuracy: 0.7606 - val_loss: 1.5819 - val_accuracy: 0.5385\n",
      "Epoch 13/100\n",
      "50000/50000 [==============================] - 8s 164us/step - loss: 0.6177 - accuracy: 0.7819 - val_loss: 1.6466 - val_accuracy: 0.5299\n",
      "Epoch 14/100\n",
      "50000/50000 [==============================] - 8s 165us/step - loss: 0.5661 - accuracy: 0.8007 - val_loss: 1.7791 - val_accuracy: 0.5331\n",
      "Epoch 15/100\n",
      "50000/50000 [==============================] - 8s 168us/step - loss: 0.5223 - accuracy: 0.8138 - val_loss: 1.9065 - val_accuracy: 0.5415\n",
      "Epoch 16/100\n",
      "50000/50000 [==============================] - 8s 163us/step - loss: 0.4715 - accuracy: 0.8335 - val_loss: 1.9533 - val_accuracy: 0.5344\n",
      "Epoch 17/100\n",
      "50000/50000 [==============================] - 8s 165us/step - loss: 0.4274 - accuracy: 0.8485 - val_loss: 1.9887 - val_accuracy: 0.5421\n",
      "Epoch 18/100\n",
      "50000/50000 [==============================] - 8s 162us/step - loss: 0.4053 - accuracy: 0.8555 - val_loss: 2.1303 - val_accuracy: 0.5269\n",
      "Epoch 19/100\n",
      "50000/50000 [==============================] - 8s 162us/step - loss: 0.3721 - accuracy: 0.8679 - val_loss: 2.1983 - val_accuracy: 0.5218\n",
      "Epoch 20/100\n",
      "50000/50000 [==============================] - 8s 162us/step - loss: 0.3434 - accuracy: 0.8804 - val_loss: 2.2375 - val_accuracy: 0.5333\n",
      "Epoch 21/100\n",
      "50000/50000 [==============================] - 8s 163us/step - loss: 0.3228 - accuracy: 0.8851 - val_loss: 2.3762 - val_accuracy: 0.5331\n",
      "Epoch 22/100\n",
      "50000/50000 [==============================] - 8s 170us/step - loss: 0.2941 - accuracy: 0.8973 - val_loss: 2.4280 - val_accuracy: 0.5339\n",
      "Epoch 23/100\n",
      "50000/50000 [==============================] - 8s 166us/step - loss: 0.2831 - accuracy: 0.9006 - val_loss: 2.5851 - val_accuracy: 0.5259\n",
      "Epoch 24/100\n",
      "50000/50000 [==============================] - 8s 167us/step - loss: 0.2586 - accuracy: 0.9091 - val_loss: 2.6524 - val_accuracy: 0.5292\n",
      "Epoch 25/100\n",
      "50000/50000 [==============================] - 8s 165us/step - loss: 0.2458 - accuracy: 0.9139 - val_loss: 2.5624 - val_accuracy: 0.5341\n",
      "Epoch 26/100\n",
      "50000/50000 [==============================] - 8s 165us/step - loss: 0.2270 - accuracy: 0.9209 - val_loss: 2.7748 - val_accuracy: 0.5323\n",
      "Epoch 27/100\n",
      "50000/50000 [==============================] - 8s 165us/step - loss: 0.2349 - accuracy: 0.9191 - val_loss: 2.8100 - val_accuracy: 0.5353\n",
      "Epoch 28/100\n",
      "50000/50000 [==============================] - 8s 165us/step - loss: 0.2087 - accuracy: 0.9278 - val_loss: 2.8539 - val_accuracy: 0.5334\n",
      "Epoch 29/100\n",
      "50000/50000 [==============================] - 8s 168us/step - loss: 0.2106 - accuracy: 0.9269 - val_loss: 2.9023 - val_accuracy: 0.5233\n",
      "Epoch 30/100\n",
      "50000/50000 [==============================] - 8s 167us/step - loss: 0.1997 - accuracy: 0.9312 - val_loss: 2.9989 - val_accuracy: 0.5275\n",
      "Epoch 31/100\n",
      "50000/50000 [==============================] - 8s 167us/step - loss: 0.1815 - accuracy: 0.9377 - val_loss: 3.0136 - val_accuracy: 0.5298\n",
      "Epoch 32/100\n",
      "50000/50000 [==============================] - 8s 165us/step - loss: 0.1817 - accuracy: 0.9373 - val_loss: 3.0933 - val_accuracy: 0.5312\n",
      "Epoch 33/100\n",
      "50000/50000 [==============================] - 8s 164us/step - loss: 0.1594 - accuracy: 0.9460 - val_loss: 3.1982 - val_accuracy: 0.5291\n",
      "Epoch 34/100\n",
      "50000/50000 [==============================] - 8s 165us/step - loss: 0.1707 - accuracy: 0.9421 - val_loss: 3.0960 - val_accuracy: 0.5256\n",
      "Epoch 35/100\n",
      "50000/50000 [==============================] - 8s 166us/step - loss: 0.1554 - accuracy: 0.9477 - val_loss: 3.3408 - val_accuracy: 0.5245\n",
      "Epoch 36/100\n",
      "50000/50000 [==============================] - 8s 166us/step - loss: 0.1556 - accuracy: 0.9490 - val_loss: 3.1760 - val_accuracy: 0.5318\n",
      "Epoch 37/100\n",
      "50000/50000 [==============================] - 8s 167us/step - loss: 0.1361 - accuracy: 0.9544 - val_loss: 3.4007 - val_accuracy: 0.5227\n",
      "Epoch 38/100\n",
      "50000/50000 [==============================] - 8s 166us/step - loss: 0.1587 - accuracy: 0.9454 - val_loss: 3.3347 - val_accuracy: 0.5246\n",
      "Epoch 39/100\n",
      "50000/50000 [==============================] - 8s 165us/step - loss: 0.1569 - accuracy: 0.9478 - val_loss: 3.1669 - val_accuracy: 0.5291\n",
      "Epoch 40/100\n",
      "50000/50000 [==============================] - 8s 165us/step - loss: 0.1438 - accuracy: 0.9514 - val_loss: 3.3038 - val_accuracy: 0.5281\n",
      "Epoch 41/100\n",
      "50000/50000 [==============================] - 8s 165us/step - loss: 0.1266 - accuracy: 0.9566 - val_loss: 3.4677 - val_accuracy: 0.5367\n",
      "Epoch 42/100\n",
      "50000/50000 [==============================] - 8s 166us/step - loss: 0.1323 - accuracy: 0.9562 - val_loss: 3.6195 - val_accuracy: 0.5326\n",
      "Epoch 43/100\n",
      "50000/50000 [==============================] - 8s 165us/step - loss: 0.1305 - accuracy: 0.9566 - val_loss: 3.2646 - val_accuracy: 0.5383\n",
      "Epoch 44/100\n",
      "50000/50000 [==============================] - 8s 165us/step - loss: 0.1213 - accuracy: 0.9600 - val_loss: 3.4866 - val_accuracy: 0.5320\n",
      "Epoch 45/100\n",
      "50000/50000 [==============================] - 8s 167us/step - loss: 0.1205 - accuracy: 0.9593 - val_loss: 3.4342 - val_accuracy: 0.5298\n",
      "Epoch 46/100\n",
      "50000/50000 [==============================] - 8s 167us/step - loss: 0.1325 - accuracy: 0.9565 - val_loss: 3.4269 - val_accuracy: 0.5255\n",
      "Epoch 47/100\n",
      "50000/50000 [==============================] - 8s 170us/step - loss: 0.1129 - accuracy: 0.9624 - val_loss: 3.6998 - val_accuracy: 0.5322\n",
      "Epoch 48/100\n",
      "50000/50000 [==============================] - 8s 166us/step - loss: 0.1175 - accuracy: 0.9605 - val_loss: 3.5432 - val_accuracy: 0.5251\n",
      "Epoch 49/100\n",
      "50000/50000 [==============================] - 8s 165us/step - loss: 0.1153 - accuracy: 0.9620 - val_loss: 3.5041 - val_accuracy: 0.5215\n",
      "Epoch 50/100\n",
      "50000/50000 [==============================] - 8s 166us/step - loss: 0.1019 - accuracy: 0.9666 - val_loss: 3.6716 - val_accuracy: 0.5332\n",
      "Epoch 51/100\n",
      "50000/50000 [==============================] - 8s 169us/step - loss: 0.1244 - accuracy: 0.9586 - val_loss: 3.5653 - val_accuracy: 0.5395\n",
      "Epoch 52/100\n",
      "50000/50000 [==============================] - 8s 167us/step - loss: 0.1098 - accuracy: 0.9647 - val_loss: 3.6031 - val_accuracy: 0.5362\n",
      "Epoch 53/100\n",
      "50000/50000 [==============================] - 8s 167us/step - loss: 0.1086 - accuracy: 0.9643 - val_loss: 3.4884 - val_accuracy: 0.5294\n",
      "Epoch 54/100\n",
      "50000/50000 [==============================] - 8s 165us/step - loss: 0.1067 - accuracy: 0.9655 - val_loss: 3.6807 - val_accuracy: 0.5340\n",
      "Epoch 55/100\n"
     ]
    },
    {
     "name": "stdout",
     "output_type": "stream",
     "text": [
      "50000/50000 [==============================] - 8s 166us/step - loss: 0.1012 - accuracy: 0.9676 - val_loss: 3.6083 - val_accuracy: 0.5306\n",
      "Epoch 56/100\n",
      "50000/50000 [==============================] - 8s 164us/step - loss: 0.1035 - accuracy: 0.9659 - val_loss: 3.7035 - val_accuracy: 0.5359\n",
      "Epoch 57/100\n",
      "50000/50000 [==============================] - 8s 164us/step - loss: 0.0937 - accuracy: 0.9686 - val_loss: 3.8646 - val_accuracy: 0.5363\n",
      "Epoch 58/100\n",
      "50000/50000 [==============================] - 8s 164us/step - loss: 0.0980 - accuracy: 0.9672 - val_loss: 3.6631 - val_accuracy: 0.5377\n",
      "Epoch 59/100\n",
      "50000/50000 [==============================] - 8s 164us/step - loss: 0.1050 - accuracy: 0.9651 - val_loss: 3.7767 - val_accuracy: 0.5373\n",
      "Epoch 60/100\n",
      "50000/50000 [==============================] - 8s 168us/step - loss: 0.0943 - accuracy: 0.9694 - val_loss: 3.6588 - val_accuracy: 0.5346\n",
      "Epoch 61/100\n",
      "50000/50000 [==============================] - 8s 163us/step - loss: 0.0899 - accuracy: 0.9707 - val_loss: 3.6779 - val_accuracy: 0.5354\n",
      "Epoch 62/100\n",
      "50000/50000 [==============================] - 8s 166us/step - loss: 0.1013 - accuracy: 0.9677 - val_loss: 3.8690 - val_accuracy: 0.5311\n",
      "Epoch 63/100\n",
      "50000/50000 [==============================] - 8s 165us/step - loss: 0.0878 - accuracy: 0.9716 - val_loss: 3.7076 - val_accuracy: 0.5394\n",
      "Epoch 64/100\n",
      "50000/50000 [==============================] - 8s 169us/step - loss: 0.0850 - accuracy: 0.9718 - val_loss: 3.7648 - val_accuracy: 0.5277\n",
      "Epoch 65/100\n",
      "50000/50000 [==============================] - 8s 164us/step - loss: 0.0889 - accuracy: 0.9716 - val_loss: 3.7082 - val_accuracy: 0.5307\n",
      "Epoch 66/100\n",
      "50000/50000 [==============================] - 8s 165us/step - loss: 0.0917 - accuracy: 0.9699 - val_loss: 3.8548 - val_accuracy: 0.5328\n",
      "Epoch 67/100\n",
      "50000/50000 [==============================] - 8s 164us/step - loss: 0.0903 - accuracy: 0.9712 - val_loss: 3.7072 - val_accuracy: 0.5365\n",
      "Epoch 68/100\n",
      "50000/50000 [==============================] - 8s 164us/step - loss: 0.0887 - accuracy: 0.9715 - val_loss: 3.7656 - val_accuracy: 0.5349\n",
      "Epoch 69/100\n",
      "50000/50000 [==============================] - 8s 164us/step - loss: 0.0802 - accuracy: 0.9743 - val_loss: 3.8093 - val_accuracy: 0.5392\n",
      "Epoch 70/100\n",
      "50000/50000 [==============================] - 8s 164us/step - loss: 0.0903 - accuracy: 0.9715 - val_loss: 3.6187 - val_accuracy: 0.5336\n",
      "Epoch 71/100\n",
      "50000/50000 [==============================] - 8s 165us/step - loss: 0.0810 - accuracy: 0.9743 - val_loss: 3.8706 - val_accuracy: 0.5326\n",
      "Epoch 72/100\n",
      "50000/50000 [==============================] - 8s 164us/step - loss: 0.0770 - accuracy: 0.9750 - val_loss: 3.5330 - val_accuracy: 0.5392\n",
      "Epoch 73/100\n",
      "50000/50000 [==============================] - 8s 165us/step - loss: 0.0661 - accuracy: 0.9787 - val_loss: 4.0202 - val_accuracy: 0.5370\n",
      "Epoch 74/100\n",
      "50000/50000 [==============================] - 8s 165us/step - loss: 0.0842 - accuracy: 0.9731 - val_loss: 3.7029 - val_accuracy: 0.5351\n",
      "Epoch 75/100\n",
      "50000/50000 [==============================] - 8s 164us/step - loss: 0.0681 - accuracy: 0.9779 - val_loss: 4.0302 - val_accuracy: 0.5273\n",
      "Epoch 76/100\n",
      "50000/50000 [==============================] - 8s 164us/step - loss: 0.0861 - accuracy: 0.9724 - val_loss: 3.8162 - val_accuracy: 0.5336\n",
      "Epoch 77/100\n",
      "50000/50000 [==============================] - 8s 165us/step - loss: 0.0808 - accuracy: 0.9742 - val_loss: 3.8996 - val_accuracy: 0.5312\n",
      "Epoch 78/100\n",
      "50000/50000 [==============================] - 8s 164us/step - loss: 0.0742 - accuracy: 0.9769 - val_loss: 3.8203 - val_accuracy: 0.5316\n",
      "Epoch 79/100\n",
      "50000/50000 [==============================] - 8s 165us/step - loss: 0.0731 - accuracy: 0.9768 - val_loss: 3.9690 - val_accuracy: 0.5420\n",
      "Epoch 80/100\n",
      "50000/50000 [==============================] - 8s 165us/step - loss: 0.0736 - accuracy: 0.9764 - val_loss: 3.8400 - val_accuracy: 0.5419\n",
      "Epoch 81/100\n",
      "50000/50000 [==============================] - 8s 166us/step - loss: 0.0776 - accuracy: 0.9754 - val_loss: 3.9293 - val_accuracy: 0.5313\n",
      "Epoch 82/100\n",
      "50000/50000 [==============================] - 8s 166us/step - loss: 0.0777 - accuracy: 0.9748 - val_loss: 3.7713 - val_accuracy: 0.5291\n",
      "Epoch 83/100\n",
      "50000/50000 [==============================] - 8s 165us/step - loss: 0.0632 - accuracy: 0.9805 - val_loss: 3.9323 - val_accuracy: 0.5377\n",
      "Epoch 84/100\n",
      "50000/50000 [==============================] - 8s 167us/step - loss: 0.0749 - accuracy: 0.9761 - val_loss: 3.9312 - val_accuracy: 0.5376\n",
      "Epoch 85/100\n",
      "50000/50000 [==============================] - 8s 166us/step - loss: 0.0888 - accuracy: 0.9722 - val_loss: 3.6010 - val_accuracy: 0.5345\n",
      "Epoch 86/100\n",
      "50000/50000 [==============================] - 8s 165us/step - loss: 0.0765 - accuracy: 0.9755 - val_loss: 3.9289 - val_accuracy: 0.5268\n",
      "Epoch 87/100\n",
      "50000/50000 [==============================] - 8s 164us/step - loss: 0.0672 - accuracy: 0.9787 - val_loss: 3.9585 - val_accuracy: 0.5392\n",
      "Epoch 88/100\n",
      "50000/50000 [==============================] - 8s 166us/step - loss: 0.0664 - accuracy: 0.9788 - val_loss: 3.7989 - val_accuracy: 0.5326\n",
      "Epoch 89/100\n",
      "50000/50000 [==============================] - 8s 168us/step - loss: 0.0666 - accuracy: 0.9792 - val_loss: 3.8532 - val_accuracy: 0.5315\n",
      "Epoch 90/100\n",
      "50000/50000 [==============================] - 8s 164us/step - loss: 0.0656 - accuracy: 0.9798 - val_loss: 3.8522 - val_accuracy: 0.5378\n",
      "Epoch 91/100\n",
      "50000/50000 [==============================] - 8s 164us/step - loss: 0.0612 - accuracy: 0.9807 - val_loss: 4.0680 - val_accuracy: 0.5371\n",
      "Epoch 92/100\n",
      "50000/50000 [==============================] - 8s 164us/step - loss: 0.0725 - accuracy: 0.9769 - val_loss: 3.7306 - val_accuracy: 0.5331\n",
      "Epoch 93/100\n",
      "50000/50000 [==============================] - 8s 164us/step - loss: 0.0742 - accuracy: 0.9766 - val_loss: 3.6622 - val_accuracy: 0.5339\n",
      "Epoch 94/100\n",
      "50000/50000 [==============================] - 8s 164us/step - loss: 0.0594 - accuracy: 0.9814 - val_loss: 3.9530 - val_accuracy: 0.5312\n",
      "Epoch 95/100\n",
      "50000/50000 [==============================] - 8s 165us/step - loss: 0.0554 - accuracy: 0.9819 - val_loss: 4.0027 - val_accuracy: 0.5349\n",
      "Epoch 96/100\n",
      "50000/50000 [==============================] - 8s 164us/step - loss: 0.0587 - accuracy: 0.9817 - val_loss: 3.8417 - val_accuracy: 0.5381\n",
      "Epoch 97/100\n",
      "50000/50000 [==============================] - 8s 164us/step - loss: 0.0626 - accuracy: 0.9796 - val_loss: 4.0269 - val_accuracy: 0.5371\n",
      "Epoch 98/100\n",
      "50000/50000 [==============================] - 8s 164us/step - loss: 0.0824 - accuracy: 0.9740 - val_loss: 3.8254 - val_accuracy: 0.5358\n",
      "Epoch 99/100\n",
      "50000/50000 [==============================] - 8s 164us/step - loss: 0.0627 - accuracy: 0.9805 - val_loss: 3.8499 - val_accuracy: 0.5290\n",
      "Epoch 100/100\n",
      "50000/50000 [==============================] - 8s 164us/step - loss: 0.0602 - accuracy: 0.9808 - val_loss: 4.2456 - val_accuracy: 0.5360\n"
     ]
    },
    {
     "data": {
      "text/plain": [
       "<keras.callbacks.callbacks.History at 0x2378ae279e8>"
      ]
     },
     "execution_count": 29,
     "metadata": {},
     "output_type": "execute_result"
    }
   ],
   "source": [
    "model.fit(x_train, y_train, \n",
    "          epochs=EPOCHS, \n",
    "          batch_size=BATCH_SIZE, \n",
    "          validation_data=(x_test, y_test), \n",
    "          shuffle=True)"
   ]
  },
  {
   "cell_type": "code",
   "execution_count": 31,
   "metadata": {},
   "outputs": [
    {
     "data": {
      "image/png": "[encoded data removed]",
      "text/plain": [
       "<Figure size 432x288 with 1 Axes>"
      ]
     },
     "metadata": {
      "needs_background": "light"
     },
     "output_type": "display_data"
    },
    {
     "data": {
      "image/png": "[encoded data removed]",
      "text/plain": [
       "<Figure size 432x288 with 1 Axes>"
      ]
     },
     "metadata": {
      "needs_background": "light"
     },
     "output_type": "display_data"
    }
   ],
   "source": [
    "# 使用最大最小[-1,1] [512, 256, 256, 128, 128, 64] 之結果\n",
    "import matplotlib.pyplot as plt\n",
    "\n",
    "\n",
    "train_loss = model.history.history[\"loss\"]\n",
    "valid_loss = model.history.history[\"val_loss\"]\n",
    "\n",
    "train_acc = model.history.history[\"accuracy\"]\n",
    "valid_acc = model.history.history[\"val_accuracy\"]\n",
    "\n",
    "plt.plot(range(len(train_loss)), train_loss, label=\"train loss\")\n",
    "plt.plot(range(len(valid_loss)), valid_loss, label=\"valid loss\")\n",
    "plt.legend()\n",
    "plt.title(\"Loss\")\n",
    "plt.show()\n",
    "\n",
    "plt.plot(range(len(train_acc)), train_acc, label=\"train accuracy\")\n",
    "plt.plot(range(len(valid_acc)), valid_acc, label=\"valid accuracy\")\n",
    "plt.legend()\n",
    "plt.title(\"Accuracy\")\n",
    "plt.show()"
   ]
  },
  {
   "cell_type": "code",
   "execution_count": 12,
   "metadata": {},
   "outputs": [
    {
     "data": {
      "image/png": "[encoded data removed]",
      "text/plain": [
       "<Figure size 432x288 with 1 Axes>"
      ]
     },
     "metadata": {},
     "output_type": "display_data"
    },
    {
     "data": {
      "image/png": "[encoded data removed]",
      "text/plain": [
       "<Figure size 432x288 with 1 Axes>"
      ]
     },
     "metadata": {},
     "output_type": "display_data"
    }
   ],
   "source": [
    "# 使用正規化 [512, 256, 128] 之結果\n",
    "import matplotlib.pyplot as plt\n",
    "\n",
    "\n",
    "train_loss = model.history.history[\"loss\"]\n",
    "valid_loss = model.history.history[\"val_loss\"]\n",
    "\n",
    "train_acc = model.history.history[\"accuracy\"]\n",
    "valid_acc = model.history.history[\"val_accuracy\"]\n",
    "\n",
    "plt.plot(range(len(train_loss)), train_loss, label=\"train loss\")\n",
    "plt.plot(range(len(valid_loss)), valid_loss, label=\"valid loss\")\n",
    "plt.legend()\n",
    "plt.title(\"Loss\")\n",
    "plt.show()\n",
    "\n",
    "plt.plot(range(len(train_acc)), train_acc, label=\"train accuracy\")\n",
    "plt.plot(range(len(valid_acc)), valid_acc, label=\"valid accuracy\")\n",
    "plt.legend()\n",
    "plt.title(\"Accuracy\")\n",
    "plt.show()"
   ]
  }
 ],
 "metadata": {
  "kernelspec": {
   "display_name": "Python 3",
   "language": "python",
   "name": "python3"
  },
  "language_info": {
   "codemirror_mode": {
    "name": "ipython",
    "version": 3
   },
   "file_extension": ".py",
   "mimetype": "text/x-python",
   "name": "python",
   "nbconvert_exporter": "python",
   "pygments_lexer": "ipython3",
   "version": "3.7.3"
  }
 },
 "nbformat": 4,
 "nbformat_minor": 2
}
