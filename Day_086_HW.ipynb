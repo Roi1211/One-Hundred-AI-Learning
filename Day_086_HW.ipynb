{
 "cells": [
  {
   "cell_type": "markdown",
   "metadata": {},
   "source": [
    "## Work\n",
    "1. 試比較 save_best_only 與否的差異\n",
    "2. 請僅存入將 save_weights_only 設定為 True, 並嘗試 reset ipynb 並將模型與權重重新建回並預測 x_test"
   ]
  },
  {
   "cell_type": "code",
   "execution_count": 1,
   "metadata": {},
   "outputs": [
    {
     "name": "stderr",
     "output_type": "stream",
     "text": [
      "Using TensorFlow backend.\n"
     ]
    }
   ],
   "source": [
    "import os\n",
    "import keras\n",
    "\n",
    "# Disable GPU\n",
    "os.environ[\"CUDA_VISIBLE_DEVICES\"] = \"\""
   ]
  },
  {
   "cell_type": "code",
   "execution_count": 2,
   "metadata": {},
   "outputs": [],
   "source": [
    "train, test = keras.datasets.cifar10.load_data()"
   ]
  },
  {
   "cell_type": "code",
   "execution_count": 3,
   "metadata": {},
   "outputs": [],
   "source": [
    "## 資料前處理\n",
    "def preproc_x(x, flatten=True):\n",
    "    x = x / 255.\n",
    "    if flatten:\n",
    "        x = x.reshape((len(x), -1))\n",
    "    return x\n",
    "\n",
    "def preproc_y(y, num_classes=10):\n",
    "    if y.shape[-1] == 1:\n",
    "        y = keras.utils.to_categorical(y, num_classes)\n",
    "    return y    "
   ]
  },
  {
   "cell_type": "code",
   "execution_count": 4,
   "metadata": {},
   "outputs": [],
   "source": [
    "x_train, y_train = train\n",
    "x_test, y_test = test\n",
    "\n",
    "# Preproc the inputs\n",
    "x_train = preproc_x(x_train)\n",
    "x_test = preproc_x(x_test)\n",
    "\n",
    "# Preprc the outputs\n",
    "y_train = preproc_y(y_train)\n",
    "y_test = preproc_y(y_test)"
   ]
  },
  {
   "cell_type": "code",
   "execution_count": 5,
   "metadata": {},
   "outputs": [],
   "source": [
    "from keras.layers import BatchNormalization\n",
    "\n",
    "\"\"\"\n",
    "建立神經網路，並加入 BN layer\n",
    "\"\"\"\n",
    "def build_mlp(input_shape, output_units=10, num_neurons=[512, 256, 128]):\n",
    "    input_layer = keras.layers.Input(input_shape)\n",
    "    \n",
    "    for i, n_units in enumerate(num_neurons):\n",
    "        if i == 0:\n",
    "            x = keras.layers.Dense(units=n_units, \n",
    "                                   activation=\"relu\", \n",
    "                                   name=\"hidden_layer\"+str(i+1))(input_layer)\n",
    "            x = BatchNormalization()(x)\n",
    "        else:\n",
    "            x = keras.layers.Dense(units=n_units, \n",
    "                                   activation=\"relu\", \n",
    "                                   name=\"hidden_layer\"+str(i+1))(x)\n",
    "            x = BatchNormalization()(x)\n",
    "    \n",
    "    out = keras.layers.Dense(units=output_units, activation=\"softmax\", name=\"output\")(x)\n",
    "    \n",
    "    model = keras.models.Model(inputs=[input_layer], outputs=[out])\n",
    "    return model"
   ]
  },
  {
   "cell_type": "code",
   "execution_count": 6,
   "metadata": {},
   "outputs": [],
   "source": [
    "## 超參數設定\n",
    "LEARNING_RATE = 1e-3\n",
    "EPOCHS = 50\n",
    "BATCH_SIZE = 1024\n",
    "MOMENTUM = 0.95"
   ]
  },
  {
   "cell_type": "code",
   "execution_count": 9,
   "metadata": {},
   "outputs": [],
   "source": [
    "\"\"\"\n",
    "# 載入 Callbacks, 並將監控目標設為 validation loss, 且只存最佳參數時的模型\n",
    "\"\"\"\n",
    "from keras.callbacks import ModelCheckpoint\n",
    "from keras.callbacks import EarlyStopping\n",
    "\n",
    "model_ckpt = ModelCheckpoint(filepath=\"./tmp.h5\", \n",
    "                             monitor=\"val_loss\", \n",
    "                             save_best_only=True)\n",
    "\n",
    "earlystop = EarlyStopping(monitor=\"val_accuracy\", \n",
    "                          patience=10, \n",
    "                          verbose=1)"
   ]
  },
  {
   "cell_type": "code",
   "execution_count": 10,
   "metadata": {},
   "outputs": [
    {
     "name": "stdout",
     "output_type": "stream",
     "text": [
      "Model: \"model_1\"\n",
      "_________________________________________________________________\n",
      "Layer (type)                 Output Shape              Param #   \n",
      "=================================================================\n",
      "input_1 (InputLayer)         (None, 3072)              0         \n",
      "_________________________________________________________________\n",
      "hidden_layer1 (Dense)        (None, 512)               1573376   \n",
      "_________________________________________________________________\n",
      "batch_normalization_1 (Batch (None, 512)               2048      \n",
      "_________________________________________________________________\n",
      "hidden_layer2 (Dense)        (None, 256)               131328    \n",
      "_________________________________________________________________\n",
      "batch_normalization_2 (Batch (None, 256)               1024      \n",
      "_________________________________________________________________\n",
      "hidden_layer3 (Dense)        (None, 128)               32896     \n",
      "_________________________________________________________________\n",
      "batch_normalization_3 (Batch (None, 128)               512       \n",
      "_________________________________________________________________\n",
      "output (Dense)               (None, 10)                1290      \n",
      "=================================================================\n",
      "Total params: 1,742,474\n",
      "Trainable params: 1,740,682\n",
      "Non-trainable params: 1,792\n",
      "_________________________________________________________________\n",
      "Train on 50000 samples, validate on 10000 samples\n",
      "Epoch 1/50\n",
      "50000/50000 [==============================] - 5s 105us/step - loss: 2.2003 - accuracy: 0.2708 - val_loss: 2.1135 - val_accuracy: 0.2226\n",
      "Epoch 2/50\n",
      "50000/50000 [==============================] - 5s 98us/step - loss: 1.7471 - accuracy: 0.3887 - val_loss: 1.9543 - val_accuracy: 0.3055\n",
      "Epoch 3/50\n",
      "50000/50000 [==============================] - 5s 98us/step - loss: 1.6240 - accuracy: 0.4274 - val_loss: 1.8264 - val_accuracy: 0.3683\n",
      "Epoch 4/50\n",
      "50000/50000 [==============================] - 6s 114us/step - loss: 1.5506 - accuracy: 0.4558 - val_loss: 1.7205 - val_accuracy: 0.4108\n",
      "Epoch 5/50\n",
      "50000/50000 [==============================] - 5s 94us/step - loss: 1.4963 - accuracy: 0.4756 - val_loss: 1.6474 - val_accuracy: 0.4292\n",
      "Epoch 6/50\n",
      "50000/50000 [==============================] - 5s 95us/step - loss: 1.4492 - accuracy: 0.4950 - val_loss: 1.5883 - val_accuracy: 0.4445\n",
      "Epoch 7/50\n",
      "50000/50000 [==============================] - 5s 108us/step - loss: 1.4106 - accuracy: 0.5079 - val_loss: 1.5499 - val_accuracy: 0.4566\n",
      "Epoch 8/50\n",
      "50000/50000 [==============================] - 5s 97us/step - loss: 1.3745 - accuracy: 0.5209 - val_loss: 1.5322 - val_accuracy: 0.4601\n",
      "Epoch 9/50\n",
      "50000/50000 [==============================] - 5s 98us/step - loss: 1.3401 - accuracy: 0.5339 - val_loss: 1.5130 - val_accuracy: 0.4610\n",
      "Epoch 10/50\n",
      "50000/50000 [==============================] - 5s 96us/step - loss: 1.3109 - accuracy: 0.5458 - val_loss: 1.4909 - val_accuracy: 0.4723\n",
      "Epoch 11/50\n",
      "50000/50000 [==============================] - 5s 96us/step - loss: 1.2825 - accuracy: 0.5560 - val_loss: 1.4810 - val_accuracy: 0.4759\n",
      "Epoch 12/50\n",
      "50000/50000 [==============================] - 5s 96us/step - loss: 1.2558 - accuracy: 0.5635 - val_loss: 1.4844 - val_accuracy: 0.4820\n",
      "Epoch 13/50\n",
      "50000/50000 [==============================] - 5s 95us/step - loss: 1.2310 - accuracy: 0.5741 - val_loss: 1.4848 - val_accuracy: 0.4789\n",
      "Epoch 14/50\n",
      "50000/50000 [==============================] - 5s 96us/step - loss: 1.2083 - accuracy: 0.5810 - val_loss: 1.4656 - val_accuracy: 0.4847\n",
      "Epoch 15/50\n",
      "50000/50000 [==============================] - 5s 96us/step - loss: 1.1808 - accuracy: 0.5930 - val_loss: 1.4683 - val_accuracy: 0.4873\n",
      "Epoch 16/50\n",
      "50000/50000 [==============================] - 5s 97us/step - loss: 1.1572 - accuracy: 0.6026 - val_loss: 1.4734 - val_accuracy: 0.4829\n",
      "Epoch 17/50\n",
      "50000/50000 [==============================] - 5s 95us/step - loss: 1.1367 - accuracy: 0.6104 - val_loss: 1.4775 - val_accuracy: 0.4840\n",
      "Epoch 18/50\n",
      "50000/50000 [==============================] - 5s 95us/step - loss: 1.1146 - accuracy: 0.6194 - val_loss: 1.4632 - val_accuracy: 0.4899\n",
      "Epoch 19/50\n",
      "50000/50000 [==============================] - 5s 97us/step - loss: 1.0948 - accuracy: 0.6268 - val_loss: 1.4694 - val_accuracy: 0.4926\n",
      "Epoch 20/50\n",
      "50000/50000 [==============================] - 5s 96us/step - loss: 1.0715 - accuracy: 0.6335 - val_loss: 1.4602 - val_accuracy: 0.4911\n",
      "Epoch 21/50\n",
      "50000/50000 [==============================] - 5s 101us/step - loss: 1.0501 - accuracy: 0.6425 - val_loss: 1.4816 - val_accuracy: 0.4859\n",
      "Epoch 22/50\n",
      "50000/50000 [==============================] - 5s 96us/step - loss: 1.0291 - accuracy: 0.6511 - val_loss: 1.4592 - val_accuracy: 0.4989\n",
      "Epoch 23/50\n",
      "50000/50000 [==============================] - 5s 102us/step - loss: 1.0092 - accuracy: 0.6597 - val_loss: 1.4759 - val_accuracy: 0.4920\n",
      "Epoch 24/50\n",
      "50000/50000 [==============================] - 6s 114us/step - loss: 0.9903 - accuracy: 0.6671 - val_loss: 1.4748 - val_accuracy: 0.4922\n",
      "Epoch 25/50\n",
      "50000/50000 [==============================] - 5s 100us/step - loss: 0.9680 - accuracy: 0.6765 - val_loss: 1.4786 - val_accuracy: 0.4894\n",
      "Epoch 26/50\n",
      "50000/50000 [==============================] - 5s 101us/step - loss: 0.9513 - accuracy: 0.6816 - val_loss: 1.4826 - val_accuracy: 0.4974\n",
      "Epoch 27/50\n",
      "50000/50000 [==============================] - 5s 105us/step - loss: 0.9292 - accuracy: 0.6905 - val_loss: 1.4879 - val_accuracy: 0.4935\n",
      "Epoch 28/50\n",
      "50000/50000 [==============================] - 5s 95us/step - loss: 0.9095 - accuracy: 0.6977 - val_loss: 1.4802 - val_accuracy: 0.4924\n",
      "Epoch 29/50\n",
      "50000/50000 [==============================] - 5s 95us/step - loss: 0.8907 - accuracy: 0.7061 - val_loss: 1.4893 - val_accuracy: 0.4997\n",
      "Epoch 30/50\n",
      "50000/50000 [==============================] - 5s 97us/step - loss: 0.8710 - accuracy: 0.7121 - val_loss: 1.4875 - val_accuracy: 0.5020\n",
      "Epoch 31/50\n",
      "50000/50000 [==============================] - 5s 99us/step - loss: 0.8521 - accuracy: 0.7210 - val_loss: 1.4981 - val_accuracy: 0.4960\n",
      "Epoch 32/50\n",
      "50000/50000 [==============================] - 5s 96us/step - loss: 0.8327 - accuracy: 0.7265 - val_loss: 1.5094 - val_accuracy: 0.4985\n",
      "Epoch 33/50\n",
      "50000/50000 [==============================] - 5s 96us/step - loss: 0.8131 - accuracy: 0.7364 - val_loss: 1.5126 - val_accuracy: 0.4946\n",
      "Epoch 34/50\n",
      "50000/50000 [==============================] - 5s 98us/step - loss: 0.7950 - accuracy: 0.7430 - val_loss: 1.5151 - val_accuracy: 0.4963\n",
      "Epoch 35/50\n",
      "50000/50000 [==============================] - 5s 95us/step - loss: 0.7775 - accuracy: 0.7489 - val_loss: 1.5305 - val_accuracy: 0.4988\n",
      "Epoch 36/50\n",
      "50000/50000 [==============================] - 5s 93us/step - loss: 0.7580 - accuracy: 0.7579 - val_loss: 1.5381 - val_accuracy: 0.4926\n",
      "Epoch 37/50\n",
      "50000/50000 [==============================] - 5s 95us/step - loss: 0.7392 - accuracy: 0.7653 - val_loss: 1.5530 - val_accuracy: 0.4967\n",
      "Epoch 38/50\n",
      "50000/50000 [==============================] - 6s 117us/step - loss: 0.7227 - accuracy: 0.7715 - val_loss: 1.5401 - val_accuracy: 0.4960\n",
      "Epoch 39/50\n",
      "50000/50000 [==============================] - 5s 97us/step - loss: 0.7044 - accuracy: 0.7802 - val_loss: 1.5642 - val_accuracy: 0.4921\n",
      "Epoch 40/50\n",
      "50000/50000 [==============================] - 5s 96us/step - loss: 0.6860 - accuracy: 0.7860 - val_loss: 1.5581 - val_accuracy: 0.4970\n",
      "Epoch 00040: early stopping\n",
      "10000/10000 [==============================] - 1s 82us/step\n"
     ]
    }
   ],
   "source": [
    "model = build_mlp(input_shape=x_train.shape[1:])\n",
    "model.summary()\n",
    "optimizer = keras.optimizers.SGD(lr=LEARNING_RATE, nesterov=True, momentum=MOMENTUM)\n",
    "model.compile(loss=\"categorical_crossentropy\", metrics=[\"accuracy\"], optimizer=optimizer)\n",
    "\n",
    "model.fit(x_train, y_train, \n",
    "          epochs=EPOCHS, \n",
    "          batch_size=BATCH_SIZE, \n",
    "          validation_data=(x_test, y_test), \n",
    "          shuffle=True,\n",
    "          callbacks=[earlystop, model_ckpt]\n",
    "         )\n",
    "\n",
    "# Collect results\n",
    "train_loss = model.history.history[\"loss\"]\n",
    "valid_loss = model.history.history[\"val_loss\"]\n",
    "train_acc = model.history.history[\"accuracy\"]\n",
    "valid_acc = model.history.history[\"val_accuracy\"]\n",
    "\n",
    "# Load back\n",
    "model = keras.models.load_model(\"./tmp.h5\")\n",
    "loss_loadback, acc_loadback = model.evaluate(x_test, y_test)"
   ]
  },
  {
   "cell_type": "code",
   "execution_count": 11,
   "metadata": {
    "scrolled": true
   },
   "outputs": [
    {
     "data": {
      "image/png": "[encoded data removed]",
      "text/plain": [
       "<Figure size 432x288 with 1 Axes>"
      ]
     },
     "metadata": {
      "needs_background": "light"
     },
     "output_type": "display_data"
    },
    {
     "data": {
      "image/png": "[encoded data removed]",
      "text/plain": [
       "<Figure size 432x288 with 1 Axes>"
      ]
     },
     "metadata": {
      "needs_background": "light"
     },
     "output_type": "display_data"
    }
   ],
   "source": [
    "import matplotlib.pyplot as plt\n",
    "%matplotlib inline\n",
    "\n",
    "plt.plot(range(len(train_loss)), train_loss, label=\"train loss\")\n",
    "plt.plot(range(len(valid_loss)), valid_loss, label=\"valid loss\")\n",
    "plt.hlines(y=loss_loadback, xmin=0, xmax=len(train_loss), colors='r', linestyles='--')\n",
    "plt.legend()\n",
    "plt.title(\"Loss\")\n",
    "plt.show()\n",
    "\n",
    "plt.plot(range(len(train_acc)), train_acc, label=\"train accuracy\")\n",
    "plt.plot(range(len(valid_acc)), valid_acc, label=\"valid accuracy\")\n",
    "plt.hlines(y=acc_loadback, xmin=0, xmax=len(train_loss), colors='r', linestyles='--')\n",
    "plt.legend()\n",
    "plt.title(\"Accuracy\")\n",
    "plt.show()"
   ]
  },
  {
   "cell_type": "code",
   "execution_count": 14,
   "metadata": {},
   "outputs": [],
   "source": [
    "#save model weights\n",
    "model.save_weights('./my_model_weights.h5')"
   ]
  },
  {
   "cell_type": "code",
   "execution_count": 15,
   "metadata": {},
   "outputs": [
    {
     "name": "stdout",
     "output_type": "stream",
     "text": [
      "Original Score= 1.4591865222930909    0.49889999628067017\n",
      "10000/10000 [==============================] - 1s 77us/step\n",
      "Loading  Score= 1.4591865222930909    0.49889999628067017\n"
     ]
    }
   ],
   "source": [
    "#save model weights\n",
    "model.load_weights('./my_model_weights.h5')\n",
    "print(\"Original Score=\",loss_loadback, \"  \", acc_loadback)\n",
    "\n",
    "loss_loadback, acc_loadback = model.evaluate(x_test, y_test)\n",
    "print(\"Loading  Score=\",loss_loadback, \"  \", acc_loadback)"
   ]
  },
  {
   "cell_type": "code",
   "execution_count": null,
   "metadata": {},
   "outputs": [],
   "source": []
  }
 ],
 "metadata": {
  "kernelspec": {
   "display_name": "Python 3",
   "language": "python",
   "name": "python3"
  },
  "language_info": {
   "codemirror_mode": {
    "name": "ipython",
    "version": 3
   },
   "file_extension": ".py",
   "mimetype": "text/x-python",
   "name": "python",
   "nbconvert_exporter": "python",
   "pygments_lexer": "ipython3",
   "version": "3.7.3"
  }
 },
 "nbformat": 4,
 "nbformat_minor": 2
}
