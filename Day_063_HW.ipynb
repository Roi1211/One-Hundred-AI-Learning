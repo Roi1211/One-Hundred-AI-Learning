{
 "cells": [
  {
   "cell_type": "markdown",
   "metadata": {},
   "source": [
    "# 作業\n",
    "* 在精簡深度學習的方式上 : 卷積類神經 (CNN) 採用像素遠近，而遞歸類神經 (RNN) 採用著則是時間遠近\n",
    "* 那麼，既然有著類似的設計精神，兩者是否有可能互換應用呢?"
   ]
  },
  {
   "cell_type": "code",
   "execution_count": null,
   "metadata": {
    "collapsed": true
   },
   "outputs": [],
   "source": [
    "以下猜想\n",
    "以CNN的架構，將全圖切割成filter單位元進行卷積運算，可以使神經元不只看單一pixel還可以看filter範圍大小四周的pixel。\n",
    "\n",
    "若利用RNN架構解決影像問題，可以依序由左至右或由上而下紀錄並運算每個pixel，但直觀認為RNN在圖像表現仍不好，畢竟這樣建立會有先後關係\n",
    "，圖像特徵的先後關係不鮮明，且序列拉長也有資料遺失的困擾。\n",
    "\n",
    "若利用CNN架構解決時序問題，在CNN角度中沒有先後順序概念，局部分析可能還勘用，但要綜觀全局並預測可能就較不適合。"
   ]
  }
 ],
 "metadata": {
  "kernelspec": {
   "display_name": "Python 3",
   "language": "python",
   "name": "python3"
  },
  "language_info": {
   "codemirror_mode": {
    "name": "ipython",
    "version": 3
   },
   "file_extension": ".py",
   "mimetype": "text/x-python",
   "name": "python",
   "nbconvert_exporter": "python",
   "pygments_lexer": "ipython3",
   "version": "3.7.1"
  }
 },
 "nbformat": 4,
 "nbformat_minor": 2
}
