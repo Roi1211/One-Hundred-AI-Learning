{
 "cells": [
  {
   "cell_type": "markdown",
   "metadata": {},
   "source": [
    "## Work\n",
    "1. 請嘗試寫一個 callback 用來記錄各類別在訓練過程中，對驗證集的 True Positive 與 True Negative"
   ]
  },
  {
   "cell_type": "code",
   "execution_count": 1,
   "metadata": {},
   "outputs": [
    {
     "name": "stderr",
     "output_type": "stream",
     "text": [
      "Using TensorFlow backend.\n"
     ]
    }
   ],
   "source": [
    "import os\n",
    "import keras\n",
    "\n",
    "# Disable GPU\n",
    "os.environ[\"CUDA_VISIBLE_DEVICES\"] = \"0\""
   ]
  },
  {
   "cell_type": "code",
   "execution_count": 2,
   "metadata": {},
   "outputs": [],
   "source": [
    "train, test = keras.datasets.cifar10.load_data()"
   ]
  },
  {
   "cell_type": "code",
   "execution_count": 3,
   "metadata": {},
   "outputs": [],
   "source": [
    "## 資料前處理\n",
    "def preproc_x(x, flatten=True):\n",
    "    x = x / 255.\n",
    "    if flatten:\n",
    "        x = x.reshape((len(x), -1))\n",
    "    return x\n",
    "\n",
    "def preproc_y(y, num_classes=10):\n",
    "    if y.shape[-1] == 1:\n",
    "        y = keras.utils.to_categorical(y, num_classes)\n",
    "    return y    "
   ]
  },
  {
   "cell_type": "code",
   "execution_count": 40,
   "metadata": {},
   "outputs": [],
   "source": [
    "x_train, y_train = train\n",
    "x_test, y_test = test\n",
    "\n",
    "# Preproc the inputs\n",
    "x_train = preproc_x(x_train)\n",
    "x_test = preproc_x(x_test)\n",
    "\n",
    "# Preprc the outputs\n",
    "y_train = preproc_y(y_train)\n",
    "y_test = preproc_y(y_test)"
   ]
  },
  {
   "cell_type": "code",
   "execution_count": 41,
   "metadata": {},
   "outputs": [],
   "source": [
    "from keras.layers import BatchNormalization\n",
    "def build_mlp(input_shape, output_units=10, num_neurons=[256, 256, 256]):\n",
    "    input_layer = keras.layers.Input(input_shape)\n",
    "    \n",
    "    for i, n_units in enumerate(num_neurons):\n",
    "        if i == 0:\n",
    "            x = keras.layers.Dense(units=n_units, \n",
    "                                   activation=\"relu\", \n",
    "                                   name=\"hidden_layer\"+str(i+1))(input_layer)\n",
    "            x = BatchNormalization()(x)\n",
    "        else:\n",
    "            x = keras.layers.Dense(units=n_units, \n",
    "                                   activation=\"relu\", \n",
    "                                   name=\"hidden_layer\"+str(i+1))(x)\n",
    "            x = BatchNormalization()(x)\n",
    "    \n",
    "    out = keras.layers.Dense(units=output_units, activation=\"softmax\", name=\"output\")(x)\n",
    "    \n",
    "    model = keras.models.Model(inputs=[input_layer], outputs=[out])\n",
    "    return model"
   ]
  },
  {
   "cell_type": "code",
   "execution_count": 42,
   "metadata": {},
   "outputs": [],
   "source": [
    "## 超參數設定\n",
    "LEARNING_RATE = 1e-3\n",
    "EPOCHS = 25\n",
    "BATCH_SIZE = 1024\n",
    "MOMENTUM = 0.95"
   ]
  },
  {
   "cell_type": "code",
   "execution_count": 51,
   "metadata": {},
   "outputs": [],
   "source": [
    "# 載入 Callbacks\n",
    "from keras.callbacks import Callback\n",
    "import numpy as np\n",
    "\n",
    "class Record_tp_tn(Callback):\n",
    "    def on_train_begin(self, epoch, logs = {}):\n",
    "        logs = logs or {}\n",
    "        record_items = [\"tpr\", \"tnr\"]\n",
    "        for i in record_items:\n",
    "            if i not in self.params['metrics']:\n",
    "                self.params['metrics'].append(i)\n",
    "    \n",
    "    def on_epoch_end(self, epoch, logs = {}, thres=0.5):\n",
    "        logs = logs or {}\n",
    "        y_true = self.validation_data[1].argmax(axis = 1)\n",
    "        y_pred = self.model.predict(self.validation_data[0]).argmax(axis = 1)\n",
    "        #y_pred = (y_pred[:, 1] >= thres) * 1\n",
    "        \n",
    "        tprs, tnrs = [], []\n",
    "        for i in range(np.max(y_true)):\n",
    "            tprs.append(np.sum(np.all([y_true == i, y_pred == i], axis=0))/np.sum(y_true==i))\n",
    "            tnrs.append(np.sum(np.all([y_true != i, y_pred != i], axis=0))/np.sum(y_true!=i))\n",
    "            \n",
    "        #tpr\n",
    "        logs[\"tpr\"] = np.average(tprs)\n",
    "        \n",
    "        #tnr\n",
    "        logs[\"tnr\"] = np.average(tnrs)\n",
    "\n",
    "rec_tptn = Record_tp_tn()"
   ]
  },
  {
   "cell_type": "code",
   "execution_count": 56,
   "metadata": {},
   "outputs": [
    {
     "data": {
      "text/plain": [
       "[0.9498888888888889,\n",
       " 0.9586666666666667,\n",
       " 0.9364444444444444,\n",
       " 0.9467777777777778,\n",
       " 0.9335555555555556,\n",
       " 0.9278888888888889,\n",
       " 0.932,\n",
       " 0.9312222222222222,\n",
       " 0.963]"
      ]
     },
     "execution_count": 56,
     "metadata": {},
     "output_type": "execute_result"
    }
   ],
   "source": [
    "y_true = rec_tptn.validation_data[1].argmax(axis = 1)\n",
    "y_pred = rec_tptn.model.predict(rec_tptn.validation_data[0]).argmax(axis = 1)\n",
    "\n",
    "tprs, tnrs = [], []\n",
    "for i in range(np.max(y_true)):\n",
    "    tprs.append(np.sum(np.all([y_true == i, y_pred == i], axis=0))/np.sum(y_true==i))\n",
    "    tnrs.append(np.sum(np.all([y_true != i, y_pred != i], axis=0))/np.sum(y_true!=i))\n",
    "tprs\n",
    "np.average(tprs)\n",
    "tnrs"
   ]
  },
  {
   "cell_type": "code",
   "execution_count": 52,
   "metadata": {
    "scrolled": true
   },
   "outputs": [
    {
     "name": "stdout",
     "output_type": "stream",
     "text": [
      "Model: \"model_6\"\n",
      "_________________________________________________________________\n",
      "Layer (type)                 Output Shape              Param #   \n",
      "=================================================================\n",
      "input_6 (InputLayer)         (None, 3072)              0         \n",
      "_________________________________________________________________\n",
      "hidden_layer1 (Dense)        (None, 256)               786688    \n",
      "_________________________________________________________________\n",
      "batch_normalization_16 (Batc (None, 256)               1024      \n",
      "_________________________________________________________________\n",
      "hidden_layer2 (Dense)        (None, 256)               65792     \n",
      "_________________________________________________________________\n",
      "batch_normalization_17 (Batc (None, 256)               1024      \n",
      "_________________________________________________________________\n",
      "hidden_layer3 (Dense)        (None, 256)               65792     \n",
      "_________________________________________________________________\n",
      "batch_normalization_18 (Batc (None, 256)               1024      \n",
      "_________________________________________________________________\n",
      "output (Dense)               (None, 10)                2570      \n",
      "=================================================================\n",
      "Total params: 923,914\n",
      "Trainable params: 922,378\n",
      "Non-trainable params: 1,536\n",
      "_________________________________________________________________\n",
      "Train on 50000 samples, validate on 10000 samples\n",
      "Epoch 1/25\n",
      "50000/50000 [==============================] - 1s 29us/step - loss: 2.2366 - accuracy: 0.2614 - val_loss: 2.1521 - val_accuracy: 0.1899\n",
      "Epoch 2/25\n",
      "50000/50000 [==============================] - 1s 19us/step - loss: 1.7864 - accuracy: 0.3766 - val_loss: 2.0017 - val_accuracy: 0.2870\n",
      "Epoch 3/25\n",
      "50000/50000 [==============================] - 1s 19us/step - loss: 1.6541 - accuracy: 0.4187 - val_loss: 1.8595 - val_accuracy: 0.3546\n",
      "Epoch 4/25\n",
      "50000/50000 [==============================] - 1s 19us/step - loss: 1.5713 - accuracy: 0.4474 - val_loss: 1.7368 - val_accuracy: 0.3947\n",
      "Epoch 5/25\n",
      "50000/50000 [==============================] - 1s 19us/step - loss: 1.5150 - accuracy: 0.4675 - val_loss: 1.6415 - val_accuracy: 0.4274\n",
      "Epoch 6/25\n",
      "50000/50000 [==============================] - 1s 19us/step - loss: 1.4699 - accuracy: 0.4846 - val_loss: 1.5943 - val_accuracy: 0.4376\n",
      "Epoch 7/25\n",
      "50000/50000 [==============================] - 1s 19us/step - loss: 1.4306 - accuracy: 0.4981 - val_loss: 1.5589 - val_accuracy: 0.4500\n",
      "Epoch 8/25\n",
      "50000/50000 [==============================] - 1s 19us/step - loss: 1.3978 - accuracy: 0.5097 - val_loss: 1.5187 - val_accuracy: 0.4637\n",
      "Epoch 9/25\n",
      "50000/50000 [==============================] - 1s 19us/step - loss: 1.3671 - accuracy: 0.5209 - val_loss: 1.5178 - val_accuracy: 0.4623\n",
      "Epoch 10/25\n",
      "50000/50000 [==============================] - 1s 19us/step - loss: 1.3379 - accuracy: 0.5329 - val_loss: 1.5020 - val_accuracy: 0.4682\n",
      "Epoch 11/25\n",
      "50000/50000 [==============================] - 1s 19us/step - loss: 1.3143 - accuracy: 0.5422 - val_loss: 1.4839 - val_accuracy: 0.4764\n",
      "Epoch 12/25\n",
      "50000/50000 [==============================] - 1s 18us/step - loss: 1.2909 - accuracy: 0.5511 - val_loss: 1.4790 - val_accuracy: 0.4760\n",
      "Epoch 13/25\n",
      "50000/50000 [==============================] - 1s 19us/step - loss: 1.2664 - accuracy: 0.5594 - val_loss: 1.4731 - val_accuracy: 0.4789\n",
      "Epoch 14/25\n",
      "50000/50000 [==============================] - 1s 19us/step - loss: 1.2451 - accuracy: 0.5692 - val_loss: 1.4643 - val_accuracy: 0.4797\n",
      "Epoch 15/25\n",
      "50000/50000 [==============================] - 1s 19us/step - loss: 1.2264 - accuracy: 0.5763 - val_loss: 1.4726 - val_accuracy: 0.4814\n",
      "Epoch 16/25\n",
      "50000/50000 [==============================] - 1s 18us/step - loss: 1.2049 - accuracy: 0.5836 - val_loss: 1.4781 - val_accuracy: 0.4805\n",
      "Epoch 17/25\n",
      "50000/50000 [==============================] - 1s 18us/step - loss: 1.1867 - accuracy: 0.5893 - val_loss: 1.4610 - val_accuracy: 0.4885\n",
      "Epoch 18/25\n",
      "50000/50000 [==============================] - 1s 19us/step - loss: 1.1669 - accuracy: 0.5966 - val_loss: 1.4531 - val_accuracy: 0.4896\n",
      "Epoch 19/25\n",
      "50000/50000 [==============================] - 1s 19us/step - loss: 1.1482 - accuracy: 0.6058 - val_loss: 1.4622 - val_accuracy: 0.4883\n",
      "Epoch 20/25\n",
      "50000/50000 [==============================] - 1s 21us/step - loss: 1.1305 - accuracy: 0.6104 - val_loss: 1.4527 - val_accuracy: 0.4908\n",
      "Epoch 21/25\n",
      "50000/50000 [==============================] - 1s 19us/step - loss: 1.1123 - accuracy: 0.6178 - val_loss: 1.4601 - val_accuracy: 0.4923\n",
      "Epoch 22/25\n",
      "50000/50000 [==============================] - 1s 19us/step - loss: 1.0956 - accuracy: 0.6234 - val_loss: 1.4441 - val_accuracy: 0.4925\n",
      "Epoch 23/25\n",
      "50000/50000 [==============================] - 1s 20us/step - loss: 1.0787 - accuracy: 0.6322 - val_loss: 1.4568 - val_accuracy: 0.4914\n",
      "Epoch 24/25\n",
      "50000/50000 [==============================] - 1s 19us/step - loss: 1.0627 - accuracy: 0.6367 - val_loss: 1.4475 - val_accuracy: 0.4957\n",
      "Epoch 25/25\n",
      "50000/50000 [==============================] - 1s 19us/step - loss: 1.0458 - accuracy: 0.6432 - val_loss: 1.4451 - val_accuracy: 0.4953\n"
     ]
    }
   ],
   "source": [
    "model = build_mlp(input_shape=x_train.shape[1:])\n",
    "model.summary()\n",
    "optimizer = keras.optimizers.SGD(lr=LEARNING_RATE, nesterov=True, momentum=MOMENTUM)\n",
    "model.compile(loss=\"categorical_crossentropy\", metrics=[\"accuracy\"], optimizer=optimizer)\n",
    "\n",
    "\"\"\"Code Here\n",
    "將 callbacks 放入模型訓練流程中\n",
    "\"\"\"\n",
    "model.fit(x_train, y_train, \n",
    "          epochs=EPOCHS, \n",
    "          batch_size=BATCH_SIZE, \n",
    "          validation_data=(x_test, y_test), \n",
    "          shuffle=True,\n",
    "          callbacks=[rec_tptn]\n",
    "         )\n",
    "\n",
    "# Collect results\n",
    "train_loss = model.history.history[\"loss\"]\n",
    "valid_loss = model.history.history[\"val_loss\"]\n",
    "train_acc = model.history.history[\"accuracy\"]\n",
    "valid_acc = model.history.history[\"val_accuracy\"]\n",
    "\n",
    "\"\"\"Code Here\n",
    "將 tp/tn 從訓練完的模型中取出\n",
    "\"\"\"\n",
    "valid_tp =  model.history.history['tpr']\n",
    "valid_tn =  model.history.history['tnr']"
   ]
  },
  {
   "cell_type": "code",
   "execution_count": 53,
   "metadata": {},
   "outputs": [
    {
     "data": {
      "image/png": "[encoded data removed]",
      "text/plain": [
       "<Figure size 432x288 with 1 Axes>"
      ]
     },
     "metadata": {
      "needs_background": "light"
     },
     "output_type": "display_data"
    },
    {
     "data": {
      "image/png": "[encoded data removed]",
      "text/plain": [
       "<Figure size 432x288 with 1 Axes>"
      ]
     },
     "metadata": {
      "needs_background": "light"
     },
     "output_type": "display_data"
    },
    {
     "data": {
      "image/png": "[encoded data removed]",
      "text/plain": [
       "<Figure size 432x288 with 1 Axes>"
      ]
     },
     "metadata": {
      "needs_background": "light"
     },
     "output_type": "display_data"
    }
   ],
   "source": [
    "import matplotlib.pyplot as plt\n",
    "%matplotlib inline\n",
    "\n",
    "plt.plot(range(len(train_loss)), train_loss, label=\"train loss\")\n",
    "plt.plot(range(len(valid_loss)), valid_loss, label=\"valid loss\")\n",
    "plt.legend()\n",
    "plt.title(\"Loss\")\n",
    "plt.show()\n",
    "\n",
    "plt.plot(range(len(train_acc)), train_acc, label=\"train accuracy\")\n",
    "plt.plot(range(len(valid_acc)), valid_acc, label=\"valid accuracy\")\n",
    "plt.legend()\n",
    "plt.title(\"Accuracy\")\n",
    "plt.show()\n",
    "\n",
    "plt.plot(range(len(valid_tp)), valid_tp, label=\"valid tp\", color=\"navy\")\n",
    "plt.plot(range(len(valid_tn)), valid_tn, label=\"valid tn\", color=\"red\")\n",
    "plt.legend()\n",
    "plt.title(\"True positives and True Negatives\")\n",
    "plt.show()\n"
   ]
  },
  {
   "cell_type": "code",
   "execution_count": null,
   "metadata": {},
   "outputs": [],
   "source": []
  }
 ],
 "metadata": {
  "kernelspec": {
   "display_name": "Python 3",
   "language": "python",
   "name": "python3"
  },
  "language_info": {
   "codemirror_mode": {
    "name": "ipython",
    "version": 3
   },
   "file_extension": ".py",
   "mimetype": "text/x-python",
   "name": "python",
   "nbconvert_exporter": "python",
   "pygments_lexer": "ipython3",
   "version": "3.7.3"
  }
 },
 "nbformat": 4,
 "nbformat_minor": 4
}
